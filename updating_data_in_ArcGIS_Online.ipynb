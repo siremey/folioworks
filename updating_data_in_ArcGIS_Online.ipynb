{
  "cells": [
    {
      "cell_type": "code",
      "execution_count": null,
      "metadata": {
        "id": "H0pYt-8Ytd7E"
      },
      "outputs": [],
      "source": [
        "from arcgis.gis import GIS\n",
        "from arcgis import features\n",
        "import pandas as pd\n",
        "import os\n",
        "import datetime as dt\n",
        "import shutil"
      ]
    },
    {
      "cell_type": "code",
      "execution_count": null,
      "metadata": {
        "id": "khb28O7_td7G",
        "outputId": "178c691d-8e1d-42ff-b200-f7ca431df8df"
      },
      "outputs": [
        {
          "name": "stdout",
          "output_type": "stream",
          "text": [
            "Enter password: ········\n"
          ]
        }
      ],
      "source": [
        "# login to arcgis online\n",
        "gis = GIS('https://arcgis.com', 'Emeka_Orji')"
      ]
    },
    {
      "cell_type": "code",
      "execution_count": null,
      "metadata": {
        "id": "ULFlb38rtd7H",
        "outputId": "9e21113f-3b55-4524-f056-75b3c3f2f146"
      },
      "outputs": [
        {
          "data": {
            "text/plain": [
              "\"\\nimport pyodbc \\nconn = pyodbc.connect('Driver={SQL Server};'\\n                      'Server=DESKTOP-9GUC0GM;'\\n                      'Database=covid19;'\\n                      'Trusted_Connection=yes;')\\n\\ncur = conn.cursor()\\n\\nsql_cal = pd.read_sql_query('SELECT * FROM covid19.dbo.covid19_call_records', conn)\\nprint(type(sql_cal))\\n\\ncur.close()\\n\\n\""
            ]
          },
          "execution_count": 3,
          "metadata": {},
          "output_type": "execute_result"
        }
      ],
      "source": [
        "'''\n",
        "import pyodbc\n",
        "conn = pyodbc.connect('Driver={SQL Server};'\n",
        "                      'Server=DESKTOP-9GUC0GM;'\n",
        "                      'Database=covid19;'\n",
        "                      'Trusted_Connection=yes;')\n",
        "\n",
        "cur = conn.cursor()\n",
        "\n",
        "sql_cal = pd.read_sql_query('SELECT * FROM covid19.dbo.covid19_call_records', conn)\n",
        "print(type(sql_cal))\n",
        "\n",
        "cur.close()\n",
        "\n",
        "'''"
      ]
    },
    {
      "cell_type": "code",
      "execution_count": null,
      "metadata": {
        "id": "o_IqTs4Std7I",
        "outputId": "05b97b98-e609-4d59-82e1-65bd9ab4561b"
      },
      "outputs": [
        {
          "data": {
            "text/html": [
              "<div>\n",
              "<style scoped>\n",
              "    .dataframe tbody tr th:only-of-type {\n",
              "        vertical-align: middle;\n",
              "    }\n",
              "\n",
              "    .dataframe tbody tr th {\n",
              "        vertical-align: top;\n",
              "    }\n",
              "\n",
              "    .dataframe thead th {\n",
              "        text-align: right;\n",
              "    }\n",
              "</style>\n",
              "<table border=\"1\" class=\"dataframe\">\n",
              "  <thead>\n",
              "    <tr style=\"text-align: right;\">\n",
              "      <th></th>\n",
              "      <th>state_id</th>\n",
              "      <th>state</th>\n",
              "      <th>latitude</th>\n",
              "      <th>longitude</th>\n",
              "      <th>june_1</th>\n",
              "      <th>june_2</th>\n",
              "      <th>june_3</th>\n",
              "    </tr>\n",
              "  </thead>\n",
              "  <tbody>\n",
              "    <tr>\n",
              "      <th>0</th>\n",
              "      <td>1</td>\n",
              "      <td>Abia</td>\n",
              "      <td>5.452735</td>\n",
              "      <td>7.524841</td>\n",
              "      <td>10</td>\n",
              "      <td>18</td>\n",
              "      <td>14</td>\n",
              "    </tr>\n",
              "    <tr>\n",
              "      <th>1</th>\n",
              "      <td>2</td>\n",
              "      <td>Adamawa</td>\n",
              "      <td>9.326475</td>\n",
              "      <td>12.398385</td>\n",
              "      <td>26</td>\n",
              "      <td>14</td>\n",
              "      <td>10</td>\n",
              "    </tr>\n",
              "    <tr>\n",
              "      <th>2</th>\n",
              "      <td>3</td>\n",
              "      <td>Akwa Ibom</td>\n",
              "      <td>4.905737</td>\n",
              "      <td>7.853668</td>\n",
              "      <td>18</td>\n",
              "      <td>14</td>\n",
              "      <td>10</td>\n",
              "    </tr>\n",
              "    <tr>\n",
              "      <th>3</th>\n",
              "      <td>4</td>\n",
              "      <td>Anambra</td>\n",
              "      <td>6.220900</td>\n",
              "      <td>6.936956</td>\n",
              "      <td>23</td>\n",
              "      <td>17</td>\n",
              "      <td>13</td>\n",
              "    </tr>\n",
              "    <tr>\n",
              "      <th>4</th>\n",
              "      <td>5</td>\n",
              "      <td>Bauchi</td>\n",
              "      <td>10.776062</td>\n",
              "      <td>9.999194</td>\n",
              "      <td>18</td>\n",
              "      <td>15</td>\n",
              "      <td>11</td>\n",
              "    </tr>\n",
              "  </tbody>\n",
              "</table>\n",
              "</div>"
            ],
            "text/plain": [
              "   state_id      state   latitude  longitude  june_1  june_2  june_3\n",
              "0         1       Abia   5.452735   7.524841      10      18      14\n",
              "1         2    Adamawa   9.326475  12.398385      26      14      10\n",
              "2         3  Akwa Ibom   4.905737   7.853668      18      14      10\n",
              "3         4    Anambra   6.220900   6.936956      23      17      13\n",
              "4         5     Bauchi  10.776062   9.999194      18      15      11"
            ]
          },
          "execution_count": 4,
          "metadata": {},
          "output_type": "execute_result"
        }
      ],
      "source": [
        "# read in the data from database... here from csv\n",
        "csv1 = os.path.join('mgic_update', 'testing_append1.csv')\n",
        "calls_1 = pd.read_csv(csv1)\n",
        "calls_1.head()"
      ]
    },
    {
      "cell_type": "code",
      "execution_count": null,
      "metadata": {
        "id": "Go2ZKtp3td7J",
        "outputId": "1d5f8a0e-1260-4034-cd7e-3ffbdc42dbfc"
      },
      "outputs": [
        {
          "data": {
            "text/plain": [
              "(37, 7)"
            ]
          },
          "execution_count": 5,
          "metadata": {},
          "output_type": "execute_result"
        }
      ],
      "source": [
        "calls_1.shape"
      ]
    },
    {
      "cell_type": "code",
      "execution_count": null,
      "metadata": {
        "id": "FIt_Ye2otd7K"
      },
      "outputs": [],
      "source": [
        "now_time = str(int(dt.datetime.now().timestamp()))"
      ]
    },
    {
      "cell_type": "code",
      "execution_count": null,
      "metadata": {
        "id": "3NAER-5gtd7K",
        "outputId": "8eb3d2d5-58da-408e-d95b-51c88d1e7024"
      },
      "outputs": [
        {
          "data": {
            "text/html": [
              "<div class=\"item_container\" style=\"height: auto; overflow: hidden; border: 1px solid #cfcfcf; border-radius: 2px; background: #f6fafa; line-height: 1.21429em; padding: 10px;\">\n",
              "                    <div class=\"item_left\" style=\"width: 210px; float: left;\">\n",
              "                       <a href='https://MGIC-ABUJA.maps.arcgis.com/home/item.html?id=cdb1b6213e8c47a0b09290271dabdcd0' target='_blank'>\n",
              "                        <img src='http://static.arcgis.com/images/desktopapp.png' class=\"itemThumbnail\">\n",
              "                       </a>\n",
              "                    </div>\n",
              "\n",
              "                    <div class=\"item_right\"     style=\"float: none; width: auto; overflow: hidden;\">\n",
              "                        <a href='https://MGIC-ABUJA.maps.arcgis.com/home/item.html?id=cdb1b6213e8c47a0b09290271dabdcd0' target='_blank'><b>states calls database1594902232</b>\n",
              "                        </a>\n",
              "                        <br/><img src='https://MGIC-ABUJA.maps.arcgis.com/home/js/jsapi/esri/css/images/item_type_icons/layers16.png' style=\"vertical-align:middle;\">CSV by Emeka_Orji\n",
              "                        <br/>Last Modified: July 16, 2020\n",
              "                        <br/>0 comments, 0 views\n",
              "                    </div>\n",
              "                </div>\n",
              "                "
            ],
            "text/plain": [
              "<Item title:\"states calls database1594902232\" type:CSV owner:Emeka_Orji>"
            ]
          },
          "execution_count": 7,
          "metadata": {},
          "output_type": "execute_result"
        }
      ],
      "source": [
        "item_prop = {'title':'states calls database' + now_time}\n",
        "csv_item = gis.content.add(item_properties=item_prop, data=csv1)\n",
        "csv_item"
      ]
    },
    {
      "cell_type": "code",
      "execution_count": null,
      "metadata": {
        "id": "GyCKlawltd7L",
        "outputId": "80992432-f2a4-4454-8260-e628aac92a90"
      },
      "outputs": [
        {
          "data": {
            "text/html": [
              "<div class=\"item_container\" style=\"height: auto; overflow: hidden; border: 1px solid #cfcfcf; border-radius: 2px; background: #f6fafa; line-height: 1.21429em; padding: 10px;\">\n",
              "                    <div class=\"item_left\" style=\"width: 210px; float: left;\">\n",
              "                       <a href='https://MGIC-ABUJA.maps.arcgis.com/home/item.html?id=0f1f99ee271e413db19d15ff3ab395d0' target='_blank'>\n",
              "                        <img src='http://static.arcgis.com/images/desktopapp.png' class=\"itemThumbnail\">\n",
              "                       </a>\n",
              "                    </div>\n",
              "\n",
              "                    <div class=\"item_right\"     style=\"float: none; width: auto; overflow: hidden;\">\n",
              "                        <a href='https://MGIC-ABUJA.maps.arcgis.com/home/item.html?id=0f1f99ee271e413db19d15ff3ab395d0' target='_blank'><b>states calls database1594902232</b>\n",
              "                        </a>\n",
              "                        <br/><img src='https://MGIC-ABUJA.maps.arcgis.com/home/js/jsapi/esri/css/images/item_type_icons/featureshosted16.png' style=\"vertical-align:middle;\">Feature Layer Collection by Emeka_Orji\n",
              "                        <br/>Last Modified: July 16, 2020\n",
              "                        <br/>0 comments, 0 views\n",
              "                    </div>\n",
              "                </div>\n",
              "                "
            ],
            "text/plain": [
              "<Item title:\"states calls database1594902232\" type:Feature Layer Collection owner:Emeka_Orji>"
            ]
          },
          "execution_count": 8,
          "metadata": {},
          "output_type": "execute_result"
        }
      ],
      "source": [
        "calls_item = csv_item.publish()\n",
        "calls_item"
      ]
    },
    {
      "cell_type": "code",
      "execution_count": null,
      "metadata": {
        "id": "rBsTf-Igtd7M",
        "outputId": "9cf6301a-927a-4901-a959-b4ce87a72aca"
      },
      "outputs": [
        {
          "data": {
            "text/html": [
              "<div>\n",
              "<style scoped>\n",
              "    .dataframe tbody tr th:only-of-type {\n",
              "        vertical-align: middle;\n",
              "    }\n",
              "\n",
              "    .dataframe tbody tr th {\n",
              "        vertical-align: top;\n",
              "    }\n",
              "\n",
              "    .dataframe thead th {\n",
              "        text-align: right;\n",
              "    }\n",
              "</style>\n",
              "<table border=\"1\" class=\"dataframe\">\n",
              "  <thead>\n",
              "    <tr style=\"text-align: right;\">\n",
              "      <th></th>\n",
              "      <th>state_id</th>\n",
              "      <th>state</th>\n",
              "      <th>latitude</th>\n",
              "      <th>longitude</th>\n",
              "      <th>june_1</th>\n",
              "      <th>june_2</th>\n",
              "      <th>june_3</th>\n",
              "    </tr>\n",
              "  </thead>\n",
              "  <tbody>\n",
              "    <tr>\n",
              "      <th>0</th>\n",
              "      <td>1</td>\n",
              "      <td>Abia</td>\n",
              "      <td>5.452735</td>\n",
              "      <td>7.524841</td>\n",
              "      <td>13</td>\n",
              "      <td>20</td>\n",
              "      <td>20</td>\n",
              "    </tr>\n",
              "    <tr>\n",
              "      <th>1</th>\n",
              "      <td>2</td>\n",
              "      <td>Adamawa</td>\n",
              "      <td>9.326475</td>\n",
              "      <td>12.398385</td>\n",
              "      <td>29</td>\n",
              "      <td>16</td>\n",
              "      <td>16</td>\n",
              "    </tr>\n",
              "    <tr>\n",
              "      <th>2</th>\n",
              "      <td>3</td>\n",
              "      <td>Akwa Ibom</td>\n",
              "      <td>4.905737</td>\n",
              "      <td>7.853668</td>\n",
              "      <td>21</td>\n",
              "      <td>16</td>\n",
              "      <td>16</td>\n",
              "    </tr>\n",
              "    <tr>\n",
              "      <th>3</th>\n",
              "      <td>4</td>\n",
              "      <td>Anambra</td>\n",
              "      <td>6.220900</td>\n",
              "      <td>6.936956</td>\n",
              "      <td>26</td>\n",
              "      <td>19</td>\n",
              "      <td>19</td>\n",
              "    </tr>\n",
              "    <tr>\n",
              "      <th>4</th>\n",
              "      <td>5</td>\n",
              "      <td>Bauchi</td>\n",
              "      <td>10.776062</td>\n",
              "      <td>9.999194</td>\n",
              "      <td>25</td>\n",
              "      <td>17</td>\n",
              "      <td>17</td>\n",
              "    </tr>\n",
              "  </tbody>\n",
              "</table>\n",
              "</div>"
            ],
            "text/plain": [
              "   state_id      state   latitude  longitude  june_1  june_2  june_3\n",
              "0         1       Abia   5.452735   7.524841      13      20      20\n",
              "1         2    Adamawa   9.326475  12.398385      29      16      16\n",
              "2         3  Akwa Ibom   4.905737   7.853668      21      16      16\n",
              "3         4    Anambra   6.220900   6.936956      26      19      19\n",
              "4         5     Bauchi  10.776062   9.999194      25      17      17"
            ]
          },
          "execution_count": 53,
          "metadata": {},
          "output_type": "execute_result"
        }
      ],
      "source": [
        "### Apply new call update from database\n",
        "# read new data into python dataframe\n",
        "\n",
        "csv2 = os.path.join('mgic_update', 'june_1_3.csv')\n",
        "calls_2 = pd.read_csv(csv2)\n",
        "calls_2.head()"
      ]
    },
    {
      "cell_type": "code",
      "execution_count": null,
      "metadata": {
        "id": "3yzUB3NEtd7M",
        "outputId": "1714280b-200a-485a-8cc7-8d744c89adcb"
      },
      "outputs": [
        {
          "data": {
            "text/plain": [
              "(37, 7)"
            ]
          },
          "execution_count": 54,
          "metadata": {},
          "output_type": "execute_result"
        }
      ],
      "source": [
        "calls_2.shape"
      ]
    },
    {
      "cell_type": "code",
      "execution_count": null,
      "metadata": {
        "id": "xTzK2oyktd7N"
      },
      "outputs": [],
      "source": [
        "calls_flayer = calls_item.layers[0]\n",
        "calls_fset = calls_flayer.query()"
      ]
    },
    {
      "cell_type": "code",
      "execution_count": null,
      "metadata": {
        "id": "015t34cbtd7N"
      },
      "outputs": [],
      "source": [
        "overlap_rows = pd.merge(left = calls_fset.sdf, right = calls_2,\n",
        "                       how = 'inner', on = 'state_id')"
      ]
    },
    {
      "cell_type": "code",
      "execution_count": null,
      "metadata": {
        "id": "sG79Xp3Ftd7O",
        "outputId": "fc372646-3c43-4eb7-9b96-68185de1555b"
      },
      "outputs": [
        {
          "data": {
            "text/plain": [
              "{\"geometry\": {\"x\": 692805.968018234, \"y\": 1359616.4982888899, \"spatialReference\": {\"wkid\": 102100, \"latestWkid\": 3857}}, \"attributes\": {\"state_id\": 37, \"state\": \"Zamfara\", \"latitude\": 12.1221805, \"longitude\": 6.2235819, \"june_1\": 5, \"june_2\": 12, \"june_3\": 6, \"ObjectId\": 37, \"SHAPE\": {\"x\": 692805.968018234, \"y\": 1359616.4982888899, \"spatialReference\": {\"wkid\": 102100, \"latestWkid\": 3857}}}}"
            ]
          },
          "execution_count": 57,
          "metadata": {},
          "output_type": "execute_result"
        }
      ],
      "source": [
        "features_for_update = []\n",
        "all_features = calls_fset.features\n",
        "all_features[-1]"
      ]
    },
    {
      "cell_type": "code",
      "execution_count": null,
      "metadata": {
        "id": "hrvqYRvbtd7O"
      },
      "outputs": [],
      "source": [
        "from arcgis import geometry\n",
        "from copy import deepcopy"
      ]
    },
    {
      "cell_type": "code",
      "execution_count": null,
      "metadata": {
        "id": "q-Uk6fThtd7P"
      },
      "outputs": [],
      "source": [
        "for state_id in overlap_rows['state_id']:\n",
        "    original_feature = [f for f in all_features if f.attributes['state_id'] == state_id][0]\n",
        "    feature_to_be_updated = deepcopy(original_feature)\n",
        "    matching_row = calls_2.where(calls_2.state_id == state_id).dropna()\n",
        "    input_geometry = {'y':float(matching_row['latitude']),\n",
        "                     'x':float(matching_row['longitude'])}\n",
        "    output_geometry = geometry.project(geometries = [input_geometry],\n",
        "                                      in_sr = 4326,\n",
        "                                      out_sr =\n",
        "                calls_fset.spatial_reference['latestWkid'], gis=gis)\n",
        "\n",
        "    feature_to_be_updated.geometry = output_geometry[0]\n",
        "    feature_to_be_updated.attributes['longitude'] = float(\n",
        "    matching_row['longitude'])\n",
        "    feature_to_be_updated.attributes['state_id'] = int(matching_row['state_id'])\n",
        "    feature_to_be_updated.attributes['state'] = matching_row['state'].values[0]\n",
        "    feature_to_be_updated.attributes['latitude'] = float(matching_row['latitude'])\n",
        "    feature_to_be_updated.attributes['june_1'] = int(matching_row['june_1'])\n",
        "    feature_to_be_updated.attributes['june_2'] = int(matching_row['june_2'])\n",
        "    feature_to_be_updated.attributes['june_3'] = int(matching_row['june_3'])\n",
        "\n",
        "    features_for_update.append(feature_to_be_updated)\n",
        ""
      ]
    },
    {
      "cell_type": "code",
      "execution_count": null,
      "metadata": {
        "id": "e1Lds5_Ttd7Q",
        "outputId": "16c88aa0-0b09-4543-cac3-faee2c336828"
      },
      "outputs": [
        {
          "data": {
            "text/plain": [
              "[{\"geometry\": {\"x\": 837661.512948144, \"y\": 607914.0666610777}, \"attributes\": {\"state_id\": 1, \"state\": \"Abia\", \"latitude\": 5.452735400000001, \"longitude\": 7.524841400000001, \"june_1\": 13, \"june_2\": 20, \"june_3\": 20, \"ObjectId\": 1, \"SHAPE\": {\"x\": 837661.5129481438, \"y\": 607914.0666610777, \"spatialReference\": {\"wkid\": 102100, \"latestWkid\": 3857}}}},\n",
              " {\"geometry\": {\"x\": 1380181.9382548085, \"y\": 1042833.9385164682}, \"attributes\": {\"state_id\": 2, \"state\": \"Adamawa\", \"latitude\": 9.3264751, \"longitude\": 12.398385300000001, \"june_1\": 29, \"june_2\": 16, \"june_3\": 16, \"ObjectId\": 2, \"SHAPE\": {\"x\": 1380181.9382548083, \"y\": 1042833.9385164682, \"spatialReference\": {\"wkid\": 102100, \"latestWkid\": 3857}}}},\n",
              " {\"geometry\": {\"x\": 874266.266959682, \"y\": 546772.6297957378}, \"attributes\": {\"state_id\": 3, \"state\": \"Akwa Ibom\", \"latitude\": 4.9057371, \"longitude\": 7.8536675, \"june_1\": 21, \"june_2\": 16, \"june_3\": 16, \"ObjectId\": 3, \"SHAPE\": {\"x\": 874266.266959682, \"y\": 546772.6297957378, \"spatialReference\": {\"wkid\": 102100, \"latestWkid\": 3857}}}}]"
            ]
          },
          "execution_count": 60,
          "metadata": {},
          "output_type": "execute_result"
        }
      ],
      "source": [
        "features_for_update[:3]"
      ]
    },
    {
      "cell_type": "code",
      "execution_count": null,
      "metadata": {
        "id": "XNu6dgYetd7Q",
        "outputId": "39e5947a-1c7f-4b38-d753-bdf6e3bd9d2d"
      },
      "outputs": [
        {
          "data": {
            "text/plain": [
              "{'addResults': [],\n",
              " 'updateResults': [{'objectId': 1,\n",
              "   'uniqueId': 1,\n",
              "   'globalId': None,\n",
              "   'success': True},\n",
              "  {'objectId': 2, 'uniqueId': 2, 'globalId': None, 'success': True},\n",
              "  {'objectId': 3, 'uniqueId': 3, 'globalId': None, 'success': True},\n",
              "  {'objectId': 4, 'uniqueId': 4, 'globalId': None, 'success': True},\n",
              "  {'objectId': 5, 'uniqueId': 5, 'globalId': None, 'success': True},\n",
              "  {'objectId': 6, 'uniqueId': 6, 'globalId': None, 'success': True},\n",
              "  {'objectId': 7, 'uniqueId': 7, 'globalId': None, 'success': True},\n",
              "  {'objectId': 8, 'uniqueId': 8, 'globalId': None, 'success': True},\n",
              "  {'objectId': 9, 'uniqueId': 9, 'globalId': None, 'success': True},\n",
              "  {'objectId': 10, 'uniqueId': 10, 'globalId': None, 'success': True},\n",
              "  {'objectId': 11, 'uniqueId': 11, 'globalId': None, 'success': True},\n",
              "  {'objectId': 12, 'uniqueId': 12, 'globalId': None, 'success': True},\n",
              "  {'objectId': 13, 'uniqueId': 13, 'globalId': None, 'success': True},\n",
              "  {'objectId': 14, 'uniqueId': 14, 'globalId': None, 'success': True},\n",
              "  {'objectId': 15, 'uniqueId': 15, 'globalId': None, 'success': True},\n",
              "  {'objectId': 16, 'uniqueId': 16, 'globalId': None, 'success': True},\n",
              "  {'objectId': 17, 'uniqueId': 17, 'globalId': None, 'success': True},\n",
              "  {'objectId': 18, 'uniqueId': 18, 'globalId': None, 'success': True},\n",
              "  {'objectId': 19, 'uniqueId': 19, 'globalId': None, 'success': True},\n",
              "  {'objectId': 20, 'uniqueId': 20, 'globalId': None, 'success': True},\n",
              "  {'objectId': 21, 'uniqueId': 21, 'globalId': None, 'success': True},\n",
              "  {'objectId': 22, 'uniqueId': 22, 'globalId': None, 'success': True},\n",
              "  {'objectId': 23, 'uniqueId': 23, 'globalId': None, 'success': True},\n",
              "  {'objectId': 24, 'uniqueId': 24, 'globalId': None, 'success': True},\n",
              "  {'objectId': 25, 'uniqueId': 25, 'globalId': None, 'success': True},\n",
              "  {'objectId': 26, 'uniqueId': 26, 'globalId': None, 'success': True},\n",
              "  {'objectId': 27, 'uniqueId': 27, 'globalId': None, 'success': True},\n",
              "  {'objectId': 28, 'uniqueId': 28, 'globalId': None, 'success': True},\n",
              "  {'objectId': 29, 'uniqueId': 29, 'globalId': None, 'success': True},\n",
              "  {'objectId': 30, 'uniqueId': 30, 'globalId': None, 'success': True},\n",
              "  {'objectId': 31, 'uniqueId': 31, 'globalId': None, 'success': True},\n",
              "  {'objectId': 32, 'uniqueId': 32, 'globalId': None, 'success': True},\n",
              "  {'objectId': 33, 'uniqueId': 33, 'globalId': None, 'success': True},\n",
              "  {'objectId': 34, 'uniqueId': 34, 'globalId': None, 'success': True},\n",
              "  {'objectId': 35, 'uniqueId': 35, 'globalId': None, 'success': True},\n",
              "  {'objectId': 36, 'uniqueId': 36, 'globalId': None, 'success': True},\n",
              "  {'objectId': 37, 'uniqueId': 37, 'globalId': None, 'success': True}],\n",
              " 'deleteResults': []}"
            ]
          },
          "execution_count": 61,
          "metadata": {},
          "output_type": "execute_result"
        }
      ],
      "source": [
        "calls_flayer.edit_features(updates = features_for_update)"
      ]
    },
    {
      "cell_type": "code",
      "execution_count": null,
      "metadata": {
        "id": "vo887OoTtd7R",
        "outputId": "dca302fa-c329-4a86-ef09-9d6ac0071118"
      },
      "outputs": [
        {
          "name": "stdout",
          "output_type": "stream",
          "text": [
            "(37, 7)\n"
          ]
        },
        {
          "data": {
            "text/html": [
              "<div>\n",
              "<style scoped>\n",
              "    .dataframe tbody tr th:only-of-type {\n",
              "        vertical-align: middle;\n",
              "    }\n",
              "\n",
              "    .dataframe tbody tr th {\n",
              "        vertical-align: top;\n",
              "    }\n",
              "\n",
              "    .dataframe thead th {\n",
              "        text-align: right;\n",
              "    }\n",
              "</style>\n",
              "<table border=\"1\" class=\"dataframe\">\n",
              "  <thead>\n",
              "    <tr style=\"text-align: right;\">\n",
              "      <th></th>\n",
              "      <th>state_id</th>\n",
              "      <th>state</th>\n",
              "      <th>june_4</th>\n",
              "      <th>june_5</th>\n",
              "      <th>june_6</th>\n",
              "      <th>june_7</th>\n",
              "      <th>june_8</th>\n",
              "    </tr>\n",
              "  </thead>\n",
              "  <tbody>\n",
              "    <tr>\n",
              "      <th>0</th>\n",
              "      <td>1</td>\n",
              "      <td>Abia</td>\n",
              "      <td>11</td>\n",
              "      <td>8</td>\n",
              "      <td>8</td>\n",
              "      <td>17</td>\n",
              "      <td>10</td>\n",
              "    </tr>\n",
              "    <tr>\n",
              "      <th>1</th>\n",
              "      <td>2</td>\n",
              "      <td>Adamawa</td>\n",
              "      <td>14</td>\n",
              "      <td>9</td>\n",
              "      <td>6</td>\n",
              "      <td>7</td>\n",
              "      <td>5</td>\n",
              "    </tr>\n",
              "    <tr>\n",
              "      <th>2</th>\n",
              "      <td>3</td>\n",
              "      <td>Akwa Ibom</td>\n",
              "      <td>13</td>\n",
              "      <td>11</td>\n",
              "      <td>10</td>\n",
              "      <td>31</td>\n",
              "      <td>64</td>\n",
              "    </tr>\n",
              "    <tr>\n",
              "      <th>3</th>\n",
              "      <td>4</td>\n",
              "      <td>Anambra</td>\n",
              "      <td>27</td>\n",
              "      <td>20</td>\n",
              "      <td>8</td>\n",
              "      <td>18</td>\n",
              "      <td>15</td>\n",
              "    </tr>\n",
              "    <tr>\n",
              "      <th>4</th>\n",
              "      <td>5</td>\n",
              "      <td>Bauchi</td>\n",
              "      <td>16</td>\n",
              "      <td>23</td>\n",
              "      <td>29</td>\n",
              "      <td>13</td>\n",
              "      <td>10</td>\n",
              "    </tr>\n",
              "  </tbody>\n",
              "</table>\n",
              "</div>"
            ],
            "text/plain": [
              "   state_id      state  june_4  june_5  june_6  june_7  june_8\n",
              "0         1       Abia      11       8       8      17      10\n",
              "1         2    Adamawa      14       9       6       7       5\n",
              "2         3  Akwa Ibom      13      11      10      31      64\n",
              "3         4    Anambra      27      20       8      18      15\n",
              "4         5     Bauchi      16      23      29      13      10"
            ]
          },
          "execution_count": 62,
          "metadata": {},
          "output_type": "execute_result"
        }
      ],
      "source": [
        "csv3 = os.path.join('mgic_update', 'june_4_8.csv')\n",
        "calls_3 = pd.read_csv(csv3)\n",
        "print(calls_3.shape)\n",
        "calls_3.head()"
      ]
    },
    {
      "cell_type": "code",
      "execution_count": null,
      "metadata": {
        "id": "F9uFUGWjtd7R",
        "outputId": "4ffebb62-a4e0-478a-e80c-403d6bdeb4e9"
      },
      "outputs": [
        {
          "data": {
            "text/plain": [
              "{\n",
              "  \"name\": \"longitude\",\n",
              "  \"type\": \"esriFieldTypeDouble\",\n",
              "  \"actualType\": \"float\",\n",
              "  \"alias\": \"longitude\",\n",
              "  \"sqlType\": \"sqlTypeFloat\",\n",
              "  \"nullable\": true,\n",
              "  \"editable\": true,\n",
              "  \"visible\": true,\n",
              "  \"domain\": null,\n",
              "  \"defaultValue\": null\n",
              "}"
            ]
          },
          "execution_count": 65,
          "metadata": {},
          "output_type": "execute_result"
        }
      ],
      "source": [
        "# get fields of call feature layer\n",
        "calls_fields = calls_flayer.manager.properties.fields\n",
        "calls_fields[3]"
      ]
    },
    {
      "cell_type": "code",
      "execution_count": null,
      "metadata": {
        "id": "HMUsVxXKtd7S",
        "outputId": "5df37575-c6f3-42ed-dc7a-8178bce4f341"
      },
      "outputs": [
        {
          "name": "stdout",
          "output_type": "stream",
          "text": [
            "state_id     | state_id     | esriFieldTypeInteger     | sqlTypeInteger\n",
            "state        | state        | esriFieldTypeString      | sqlTypeNVarchar\n",
            "latitude     | latitude     | esriFieldTypeDouble      | sqlTypeFloat\n",
            "longitude    | longitude    | esriFieldTypeDouble      | sqlTypeFloat\n",
            "june_1       | june_1       | esriFieldTypeInteger     | sqlTypeInteger\n",
            "june_2       | june_2       | esriFieldTypeInteger     | sqlTypeInteger\n",
            "june_3       | june_3       | esriFieldTypeInteger     | sqlTypeInteger\n",
            "ObjectId     | ObjectId     | esriFieldTypeOID         | sqlTypeInteger\n"
          ]
        }
      ],
      "source": [
        "for field in calls_fields:\n",
        "    print(f'{field.name:13}| {field.alias:13}| {field.type:25}| {field.sqlType}')"
      ]
    },
    {
      "cell_type": "code",
      "execution_count": null,
      "metadata": {
        "id": "Sn50V7Getd7S",
        "outputId": "3ff70887-2ed7-4456-d879-be62cbb54221"
      },
      "outputs": [
        {
          "data": {
            "text/plain": [
              "{'name': 'state_id',\n",
              " 'type': 'esriFieldTypeInteger',\n",
              " 'actualType': 'int',\n",
              " 'alias': 'state_id',\n",
              " 'sqlType': 'sqlTypeInteger',\n",
              " 'nullable': True,\n",
              " 'editable': True,\n",
              " 'visible': True,\n",
              " 'domain': None,\n",
              " 'defaultValue': None}"
            ]
          },
          "execution_count": 67,
          "metadata": {},
          "output_type": "execute_result"
        }
      ],
      "source": [
        "template_field = dict(deepcopy(calls_fields[0]))\n",
        "template_field"
      ]
    },
    {
      "cell_type": "code",
      "execution_count": null,
      "metadata": {
        "id": "Eg7dXJ_mtd7T",
        "outputId": "74c92da5-0088-4786-a937-45628d47477e"
      },
      "outputs": [
        {
          "data": {
            "text/plain": [
              "['june_4', 'june_5', 'june_6', 'june_7', 'june_8']"
            ]
          },
          "execution_count": 68,
          "metadata": {},
          "output_type": "execute_result"
        }
      ],
      "source": [
        "new_field_names = list(calls_3.columns.difference(calls_1.columns))\n",
        "new_field_names"
      ]
    },
    {
      "cell_type": "code",
      "execution_count": null,
      "metadata": {
        "id": "BSaGy3nPtd7T",
        "outputId": "2ab1a55e-b7a9-4cf5-b751-d09ea3d9910f"
      },
      "outputs": [
        {
          "data": {
            "text/plain": [
              "5"
            ]
          },
          "execution_count": 69,
          "metadata": {},
          "output_type": "execute_result"
        }
      ],
      "source": [
        "fields_to_add = []\n",
        "for new_field_name in new_field_names:\n",
        "    current_field = deepcopy(template_field)\n",
        "    current_field['name'] = new_field_name.lower()\n",
        "    current_field['alias'] = new_field_name\n",
        "\n",
        "    fields_to_add.append(current_field)\n",
        "\n",
        "len(fields_to_add)"
      ]
    },
    {
      "cell_type": "code",
      "execution_count": null,
      "metadata": {
        "id": "VEL2bUOPtd7T",
        "outputId": "5c725ccf-e7a0-4270-9e25-c63b2fcfdbcc"
      },
      "outputs": [
        {
          "data": {
            "text/plain": [
              "{'name': 'june_7',\n",
              " 'type': 'esriFieldTypeInteger',\n",
              " 'actualType': 'int',\n",
              " 'alias': 'june_7',\n",
              " 'sqlType': 'sqlTypeInteger',\n",
              " 'nullable': True,\n",
              " 'editable': True,\n",
              " 'visible': True,\n",
              " 'domain': None,\n",
              " 'defaultValue': None}"
            ]
          },
          "execution_count": 71,
          "metadata": {},
          "output_type": "execute_result"
        }
      ],
      "source": [
        "fields_to_add[3]"
      ]
    },
    {
      "cell_type": "code",
      "execution_count": null,
      "metadata": {
        "id": "28P4hV_itd7U",
        "outputId": "52077344-b5c0-4dee-dcef-e8940ace9741"
      },
      "outputs": [
        {
          "data": {
            "text/plain": [
              "{'success': True}"
            ]
          },
          "execution_count": 72,
          "metadata": {},
          "output_type": "execute_result"
        }
      ],
      "source": [
        "calls_flayer.manager.add_to_definition({'fields':fields_to_add})"
      ]
    },
    {
      "cell_type": "code",
      "execution_count": null,
      "metadata": {
        "id": "anJ5-jxCtd7U",
        "outputId": "dce2752a-6f7c-4d77-b1a0-f903d170617a"
      },
      "outputs": [
        {
          "data": {
            "text/plain": [
              "13"
            ]
          },
          "execution_count": 73,
          "metadata": {},
          "output_type": "execute_result"
        }
      ],
      "source": [
        "new_calls_field = calls_flayer.manager.properties.fields\n",
        "len(new_calls_field)"
      ]
    },
    {
      "cell_type": "code",
      "execution_count": null,
      "metadata": {
        "id": "blxdfbQBtd7V",
        "outputId": "34a16244-c8fd-4028-b9b3-7ff66e1b0107"
      },
      "outputs": [
        {
          "name": "stdout",
          "output_type": "stream",
          "text": [
            "state_id   | esriFieldTypeInteger\n",
            "state      | esriFieldTypeString\n",
            "latitude   | esriFieldTypeDouble\n",
            "longitude  | esriFieldTypeDouble\n",
            "june_1     | esriFieldTypeInteger\n",
            "june_2     | esriFieldTypeInteger\n",
            "june_3     | esriFieldTypeInteger\n",
            "ObjectId   | esriFieldTypeOID\n",
            "june_4     | esriFieldTypeInteger\n",
            "june_5     | esriFieldTypeInteger\n",
            "june_6     | esriFieldTypeInteger\n",
            "june_7     | esriFieldTypeInteger\n",
            "june_8     | esriFieldTypeInteger\n"
          ]
        }
      ],
      "source": [
        "for field in new_calls_field:\n",
        "    print(f'{field.name:10} | {field.type}')"
      ]
    },
    {
      "cell_type": "code",
      "execution_count": null,
      "metadata": {
        "id": "Iu7ZtLmltd7V"
      },
      "outputs": [],
      "source": [
        "calls_fset2 = calls_flayer.query()\n",
        "calls_features2 = calls_fset2.features"
      ]
    },
    {
      "cell_type": "code",
      "execution_count": null,
      "metadata": {
        "id": "q8bs88petd7W"
      },
      "outputs": [],
      "source": [
        "features_for_update = []\n",
        "for state_id in calls_3['state_id']:\n",
        "    matching_row = calls_3.where(calls_3.state_id == state_id).dropna()\n",
        "\n",
        "    original_feature = [f for f in calls_features2 if\n",
        "                        f.attributes['state_id'] == state_id][0]\n",
        "    feature_to_update = deepcopy(original_feature)\n",
        "\n",
        "    feature_to_update.attributes['june_4'] = int(matching_row['june_4'])\n",
        "    feature_to_update.attributes['june_5'] = int(matching_row['june_5'])\n",
        "    feature_to_update.attributes['june_6'] = int(matching_row['june_6'])\n",
        "    feature_to_update.attributes['june_7'] = int(matching_row['june_7'])\n",
        "    feature_to_update.attributes['june_8'] = int(matching_row['june_8'])\n",
        "\n",
        "    features_for_update.append(feature_to_update)"
      ]
    },
    {
      "cell_type": "code",
      "execution_count": null,
      "metadata": {
        "id": "NZDNDmK0td7W",
        "outputId": "bc0fbc3d-9573-4fe9-aee3-e866d3a3d9d0"
      },
      "outputs": [
        {
          "data": {
            "text/plain": [
              "{\"geometry\": {\"x\": 692805.968018234, \"y\": 1359616.4982888887}, \"attributes\": {\"state_id\": 37, \"state\": \"Zamfara\", \"latitude\": 12.1221805, \"longitude\": 6.2235819, \"june_1\": 5, \"june_2\": 12, \"june_3\": 12, \"ObjectId\": 37, \"june_4\": 8, \"june_5\": 2, \"june_6\": 2, \"june_7\": 4, \"june_8\": 4}}"
            ]
          },
          "execution_count": 77,
          "metadata": {},
          "output_type": "execute_result"
        }
      ],
      "source": [
        "features_for_update[-1]"
      ]
    },
    {
      "cell_type": "code",
      "execution_count": null,
      "metadata": {
        "id": "yDqZCamctd7X",
        "outputId": "8a4e44c7-6e7a-4d3d-95d3-f8daeb7bf18d"
      },
      "outputs": [
        {
          "data": {
            "text/plain": [
              "{'addResults': [],\n",
              " 'updateResults': [{'objectId': 1,\n",
              "   'uniqueId': 1,\n",
              "   'globalId': None,\n",
              "   'success': True},\n",
              "  {'objectId': 2, 'uniqueId': 2, 'globalId': None, 'success': True},\n",
              "  {'objectId': 3, 'uniqueId': 3, 'globalId': None, 'success': True},\n",
              "  {'objectId': 4, 'uniqueId': 4, 'globalId': None, 'success': True},\n",
              "  {'objectId': 5, 'uniqueId': 5, 'globalId': None, 'success': True},\n",
              "  {'objectId': 6, 'uniqueId': 6, 'globalId': None, 'success': True},\n",
              "  {'objectId': 7, 'uniqueId': 7, 'globalId': None, 'success': True},\n",
              "  {'objectId': 8, 'uniqueId': 8, 'globalId': None, 'success': True},\n",
              "  {'objectId': 9, 'uniqueId': 9, 'globalId': None, 'success': True},\n",
              "  {'objectId': 10, 'uniqueId': 10, 'globalId': None, 'success': True},\n",
              "  {'objectId': 11, 'uniqueId': 11, 'globalId': None, 'success': True},\n",
              "  {'objectId': 12, 'uniqueId': 12, 'globalId': None, 'success': True},\n",
              "  {'objectId': 13, 'uniqueId': 13, 'globalId': None, 'success': True},\n",
              "  {'objectId': 14, 'uniqueId': 14, 'globalId': None, 'success': True},\n",
              "  {'objectId': 15, 'uniqueId': 15, 'globalId': None, 'success': True},\n",
              "  {'objectId': 16, 'uniqueId': 16, 'globalId': None, 'success': True},\n",
              "  {'objectId': 17, 'uniqueId': 17, 'globalId': None, 'success': True},\n",
              "  {'objectId': 18, 'uniqueId': 18, 'globalId': None, 'success': True},\n",
              "  {'objectId': 19, 'uniqueId': 19, 'globalId': None, 'success': True},\n",
              "  {'objectId': 20, 'uniqueId': 20, 'globalId': None, 'success': True},\n",
              "  {'objectId': 21, 'uniqueId': 21, 'globalId': None, 'success': True},\n",
              "  {'objectId': 22, 'uniqueId': 22, 'globalId': None, 'success': True},\n",
              "  {'objectId': 23, 'uniqueId': 23, 'globalId': None, 'success': True},\n",
              "  {'objectId': 24, 'uniqueId': 24, 'globalId': None, 'success': True},\n",
              "  {'objectId': 25, 'uniqueId': 25, 'globalId': None, 'success': True},\n",
              "  {'objectId': 26, 'uniqueId': 26, 'globalId': None, 'success': True},\n",
              "  {'objectId': 27, 'uniqueId': 27, 'globalId': None, 'success': True},\n",
              "  {'objectId': 28, 'uniqueId': 28, 'globalId': None, 'success': True},\n",
              "  {'objectId': 29, 'uniqueId': 29, 'globalId': None, 'success': True},\n",
              "  {'objectId': 30, 'uniqueId': 30, 'globalId': None, 'success': True},\n",
              "  {'objectId': 31, 'uniqueId': 31, 'globalId': None, 'success': True},\n",
              "  {'objectId': 32, 'uniqueId': 32, 'globalId': None, 'success': True},\n",
              "  {'objectId': 33, 'uniqueId': 33, 'globalId': None, 'success': True},\n",
              "  {'objectId': 34, 'uniqueId': 34, 'globalId': None, 'success': True},\n",
              "  {'objectId': 35, 'uniqueId': 35, 'globalId': None, 'success': True},\n",
              "  {'objectId': 36, 'uniqueId': 36, 'globalId': None, 'success': True},\n",
              "  {'objectId': 37, 'uniqueId': 37, 'globalId': None, 'success': True}],\n",
              " 'deleteResults': []}"
            ]
          },
          "execution_count": 78,
          "metadata": {},
          "output_type": "execute_result"
        }
      ],
      "source": [
        "calls_flayer.edit_features(updates = features_for_update)"
      ]
    },
    {
      "cell_type": "code",
      "execution_count": null,
      "metadata": {
        "id": "FMSylpNXtd7X"
      },
      "outputs": [],
      "source": []
    }
  ],
  "metadata": {
    "kernelspec": {
      "display_name": "Python 3",
      "language": "python",
      "name": "python3"
    },
    "language_info": {
      "codemirror_mode": {
        "name": "ipython",
        "version": 3
      },
      "file_extension": ".py",
      "mimetype": "text/x-python",
      "name": "python",
      "nbconvert_exporter": "python",
      "pygments_lexer": "ipython3",
      "version": "3.6.10"
    },
    "colab": {
      "provenance": []
    }
  },
  "nbformat": 4,
  "nbformat_minor": 0
}